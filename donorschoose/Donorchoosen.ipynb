{
 "cells": [
  {
   "cell_type": "code",
   "execution_count": 1,
   "metadata": {},
   "outputs": [],
   "source": [
    "import pandas as pd\n",
    "import numpy as no"
   ]
  },
  {
   "cell_type": "code",
   "execution_count": 3,
   "metadata": {},
   "outputs": [
    {
     "name": "stderr",
     "output_type": "stream",
     "text": [
      "/home/ubuntu/anaconda/envs/kaggle/lib/python3.6/site-packages/IPython/core/interactiveshell.py:2785: DtypeWarning: Columns (11,12) have mixed types. Specify dtype option on import or set low_memory=False.\n",
      "  interactivity=interactivity, compiler=compiler, result=result)\n"
     ]
    }
   ],
   "source": [
    "train=pd.read_csv('data/train.csv')\n",
    "test=pd.read_csv('data/test.csv')\n",
    "resources=pd.read_csv('data/resources.csv')\n"
   ]
  },
  {
   "cell_type": "code",
   "execution_count": 4,
   "metadata": {},
   "outputs": [
    {
     "name": "stdout",
     "output_type": "stream",
     "text": [
      "id                                              object\n",
      "teacher_id                                      object\n",
      "teacher_prefix                                  object\n",
      "school_state                                    object\n",
      "project_submitted_datetime                      object\n",
      "project_grade_category                          object\n",
      "project_subject_categories                      object\n",
      "project_subject_subcategories                   object\n",
      "project_title                                   object\n",
      "project_essay_1                                 object\n",
      "project_essay_2                                 object\n",
      "project_essay_3                                 object\n",
      "project_essay_4                                 object\n",
      "project_resource_summary                        object\n",
      "teacher_number_of_previously_posted_projects     int64\n",
      "project_is_approved                              int64\n",
      "dtype: object\n",
      "id                                              object\n",
      "teacher_id                                      object\n",
      "teacher_prefix                                  object\n",
      "school_state                                    object\n",
      "project_submitted_datetime                      object\n",
      "project_grade_category                          object\n",
      "project_subject_categories                      object\n",
      "project_subject_subcategories                   object\n",
      "project_title                                   object\n",
      "project_essay_1                                 object\n",
      "project_essay_2                                 object\n",
      "project_essay_3                                 object\n",
      "project_essay_4                                 object\n",
      "project_resource_summary                        object\n",
      "teacher_number_of_previously_posted_projects     int64\n",
      "dtype: object\n",
      "id              object\n",
      "description     object\n",
      "quantity         int64\n",
      "price          float64\n",
      "dtype: object\n"
     ]
    }
   ],
   "source": [
    "print(train.dtypes)\n",
    "print(test.dtypes)\n",
    "print(resources.dtypes)"
   ]
  },
  {
   "cell_type": "code",
   "execution_count": 12,
   "metadata": {},
   "outputs": [],
   "source": [
    "tid=['p036502']"
   ]
  },
  {
   "cell_type": "code",
   "execution_count": 14,
   "metadata": {},
   "outputs": [
    {
     "data": {
      "text/html": [
       "<div>\n",
       "<style scoped>\n",
       "    .dataframe tbody tr th:only-of-type {\n",
       "        vertical-align: middle;\n",
       "    }\n",
       "\n",
       "    .dataframe tbody tr th {\n",
       "        vertical-align: top;\n",
       "    }\n",
       "\n",
       "    .dataframe thead th {\n",
       "        text-align: right;\n",
       "    }\n",
       "</style>\n",
       "<table border=\"1\" class=\"dataframe\">\n",
       "  <thead>\n",
       "    <tr style=\"text-align: right;\">\n",
       "      <th></th>\n",
       "      <th>id</th>\n",
       "      <th>teacher_id</th>\n",
       "      <th>teacher_prefix</th>\n",
       "      <th>school_state</th>\n",
       "      <th>project_submitted_datetime</th>\n",
       "      <th>project_grade_category</th>\n",
       "      <th>project_subject_categories</th>\n",
       "      <th>project_subject_subcategories</th>\n",
       "      <th>project_title</th>\n",
       "      <th>project_essay_1</th>\n",
       "      <th>project_essay_2</th>\n",
       "      <th>project_essay_3</th>\n",
       "      <th>project_essay_4</th>\n",
       "      <th>project_resource_summary</th>\n",
       "      <th>teacher_number_of_previously_posted_projects</th>\n",
       "      <th>project_is_approved</th>\n",
       "    </tr>\n",
       "  </thead>\n",
       "  <tbody>\n",
       "    <tr>\n",
       "      <th>0</th>\n",
       "      <td>p036502</td>\n",
       "      <td>484aaf11257089a66cfedc9461c6bd0a</td>\n",
       "      <td>Ms.</td>\n",
       "      <td>NV</td>\n",
       "      <td>2016-11-18 14:45:59</td>\n",
       "      <td>Grades PreK-2</td>\n",
       "      <td>Literacy &amp; Language</td>\n",
       "      <td>Literacy</td>\n",
       "      <td>Super Sight Word Centers</td>\n",
       "      <td>Most of my kindergarten students come from low...</td>\n",
       "      <td>I currently have a differentiated sight word c...</td>\n",
       "      <td>NaN</td>\n",
       "      <td>NaN</td>\n",
       "      <td>My students need 6 Ipod Nano's to create and d...</td>\n",
       "      <td>26</td>\n",
       "      <td>1</td>\n",
       "    </tr>\n",
       "  </tbody>\n",
       "</table>\n",
       "</div>"
      ],
      "text/plain": [
       "        id                        teacher_id teacher_prefix school_state  \\\n",
       "0  p036502  484aaf11257089a66cfedc9461c6bd0a            Ms.           NV   \n",
       "\n",
       "  project_submitted_datetime project_grade_category  \\\n",
       "0        2016-11-18 14:45:59          Grades PreK-2   \n",
       "\n",
       "  project_subject_categories project_subject_subcategories  \\\n",
       "0        Literacy & Language                      Literacy   \n",
       "\n",
       "              project_title  \\\n",
       "0  Super Sight Word Centers   \n",
       "\n",
       "                                     project_essay_1  \\\n",
       "0  Most of my kindergarten students come from low...   \n",
       "\n",
       "                                     project_essay_2 project_essay_3  \\\n",
       "0  I currently have a differentiated sight word c...             NaN   \n",
       "\n",
       "  project_essay_4                           project_resource_summary  \\\n",
       "0             NaN  My students need 6 Ipod Nano's to create and d...   \n",
       "\n",
       "   teacher_number_of_previously_posted_projects  project_is_approved  \n",
       "0                                            26                    1  "
      ]
     },
     "execution_count": 14,
     "metadata": {},
     "output_type": "execute_result"
    }
   ],
   "source": [
    "train[train['id'].isin(tid)]"
   ]
  },
  {
   "cell_type": "code",
   "execution_count": 15,
   "metadata": {},
   "outputs": [
    {
     "data": {
      "text/plain": [
       "0          p233245\n",
       "1          p069063\n",
       "2          p069063\n",
       "3          p069063\n",
       "4          p069063\n",
       "5          p069063\n",
       "6          p069063\n",
       "7          p069063\n",
       "8          p096795\n",
       "9          p096795\n",
       "10         p096795\n",
       "11         p149007\n",
       "12         p149007\n",
       "13         p149007\n",
       "14         p236235\n",
       "15         p052460\n",
       "16         p052460\n",
       "17         p052460\n",
       "18         p052460\n",
       "19         p233680\n",
       "20         p233680\n",
       "21         p233680\n",
       "22         p233680\n",
       "23         p233680\n",
       "24         p233680\n",
       "25         p233680\n",
       "26         p233680\n",
       "27         p233680\n",
       "28         p233680\n",
       "29         p233680\n",
       "            ...   \n",
       "1541242    p187432\n",
       "1541243    p187432\n",
       "1541244    p187432\n",
       "1541245    p149426\n",
       "1541246    p238803\n",
       "1541247    p087783\n",
       "1541248    p087783\n",
       "1541249    p087783\n",
       "1541250    p087783\n",
       "1541251    p087783\n",
       "1541252    p087783\n",
       "1541253    p087783\n",
       "1541254    p086116\n",
       "1541255    p086116\n",
       "1541256    p086116\n",
       "1541257    p086116\n",
       "1541258    p086116\n",
       "1541259    p086116\n",
       "1541260    p228679\n",
       "1541261    p228679\n",
       "1541262    p228679\n",
       "1541263    p228679\n",
       "1541264    p183340\n",
       "1541265    p183340\n",
       "1541266    p031981\n",
       "1541267    p031981\n",
       "1541268    p031981\n",
       "1541269    p031981\n",
       "1541270    p031981\n",
       "1541271    p031981\n",
       "Name: id, Length: 1541272, dtype: object"
      ]
     },
     "execution_count": 15,
     "metadata": {},
     "output_type": "execute_result"
    }
   ],
   "source": [
    "resources['id'].isin(tid)"
   ]
  },
  {
   "cell_type": "code",
   "execution_count": null,
   "metadata": {},
   "outputs": [],
   "source": [
    "\n"
   ]
  }
 ],
 "metadata": {
  "kernelspec": {
   "display_name": "Python 3",
   "language": "python",
   "name": "python3"
  },
  "language_info": {
   "codemirror_mode": {
    "name": "ipython",
    "version": 3
   },
   "file_extension": ".py",
   "mimetype": "text/x-python",
   "name": "python",
   "nbconvert_exporter": "python",
   "pygments_lexer": "ipython3",
   "version": "3.6.5"
  }
 },
 "nbformat": 4,
 "nbformat_minor": 2
}
