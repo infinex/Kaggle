{
 "cells": [
  {
   "cell_type": "code",
   "execution_count": 12,
   "metadata": {},
   "outputs": [],
   "source": [
    "import pandas as pd\n",
    "import numpy as np\n",
    "from sklearn.preprocessing import LabelEncoder, OneHotEncoder\n",
    "from sklearn.feature_extraction.text import CountVectorizer, TfidfVectorizer\n",
    "from sklearn.metrics import roc_auc_score as auc\n",
    "from sklearn.model_selection import StratifiedKFold\n",
    "from scipy.stats import pearsonr\n",
    "from nltk.stem import PorterStemmer\n",
    "import re\n",
    "import os\n",
    "import pickle\n",
    "from scipy import sparse\n",
    "import pylab as pl"
   ]
  },
  {
   "cell_type": "code",
   "execution_count": 2,
   "metadata": {},
   "outputs": [
    {
     "name": "stderr",
     "output_type": "stream",
     "text": [
      "/home/ubuntu/anaconda/lib/python3.6/site-packages/IPython/core/interactiveshell.py:2728: DtypeWarning: Columns (11,12) have mixed types. Specify dtype option on import or set low_memory=False.\n",
      "  interactivity=interactivity, compiler=compiler, result=result)\n"
     ]
    }
   ],
   "source": [
    "train=pd.read_csv('data/train.csv')\n",
    "test=pd.read_csv('data/test.csv')\n",
    "resources=pd.read_csv('data/resources.csv')"
   ]
  },
  {
   "cell_type": "code",
   "execution_count": 3,
   "metadata": {},
   "outputs": [
    {
     "name": "stdout",
     "output_type": "stream",
     "text": [
      "id                                              object\n",
      "teacher_id                                      object\n",
      "teacher_prefix                                  object\n",
      "school_state                                    object\n",
      "project_submitted_datetime                      object\n",
      "project_grade_category                          object\n",
      "project_subject_categories                      object\n",
      "project_subject_subcategories                   object\n",
      "project_title                                   object\n",
      "project_essay_1                                 object\n",
      "project_essay_2                                 object\n",
      "project_essay_3                                 object\n",
      "project_essay_4                                 object\n",
      "project_resource_summary                        object\n",
      "teacher_number_of_previously_posted_projects     int64\n",
      "project_is_approved                              int64\n",
      "dtype: object\n",
      "id                                              object\n",
      "teacher_id                                      object\n",
      "teacher_prefix                                  object\n",
      "school_state                                    object\n",
      "project_submitted_datetime                      object\n",
      "project_grade_category                          object\n",
      "project_subject_categories                      object\n",
      "project_subject_subcategories                   object\n",
      "project_title                                   object\n",
      "project_essay_1                                 object\n",
      "project_essay_2                                 object\n",
      "project_essay_3                                 object\n",
      "project_essay_4                                 object\n",
      "project_resource_summary                        object\n",
      "teacher_number_of_previously_posted_projects     int64\n",
      "dtype: object\n",
      "id              object\n",
      "description     object\n",
      "quantity         int64\n",
      "price          float64\n",
      "dtype: object\n"
     ]
    }
   ],
   "source": [
    "print(train.dtypes)\n",
    "print(test.dtypes)\n",
    "print(resources.dtypes)"
   ]
  },
  {
   "cell_type": "code",
   "execution_count": 8,
   "metadata": {},
   "outputs": [],
   "source": [
    "df=pd.concat([train,test])\n",
    "df.loc[df.project_essay_3.isna(),['project_essay_2','project_essay_3']]=df.loc[df.project_essay_4.isna(),['project_essay_3','project_essay_2']].values\n",
    "df[['project_essay_2','project_essay_4']]=df[['project_essay_2','project_essay_4']].fillna(\"\")\n",
    "df['project_essay_1']=df.apply(lambda x:x['project_essay_1']+x['project_essay_2'],axis=1)\n",
    "df['project_essay_2']=df.apply(lambda x:x['project_essay_3']+x['project_essay_4'],axis=1)\n",
    "df=df.drop(['project_essay_3','project_essay_4'],axis=1)"
   ]
  },
  {
   "cell_type": "code",
   "execution_count": 10,
   "metadata": {},
   "outputs": [],
   "source": [
    "resources['total_price']=resources['quantity'] * resources['price']\n",
    "\n",
    "R=resources.groupby('id').agg({'description':'count','quantity':'sum','price':'sum','total_price':'sum'})\\\n",
    "    .rename(columns={'description':'items'})\n",
    "R['avg_price']=R['total_price']/R['quantity']\n",
    "\n",
    "for func in ['min','max','mean','std']:\n",
    "    R=R.join(resources.groupby('id').agg({'quantity':func,'price':func,'total_price':func}).\\\n",
    "           rename(columns={'quantity':'quantity_'+func,'price':'price_'+func,'total_price':'total_price_'+func}))\n",
    "\n",
    "R=R.join(resources.groupby('id').agg({'description':lambda x:' '.join(x.astype(str))}).rename(\n",
    "    columns={'description':'resource_description'}))\n",
    "\n",
    "df=df.join(R,on='id')\n",
    "\n",
    "df['price_category']=pd.cut(df['total_price'], [0, 50, 100, 250, 500, 1000,np.inf])\n",
    "\n",
    "for c in ['quantity', 'price', 'total_price']:\n",
    "    df['max%s_min%s'%(c,c)] = df['%s_max'%c] - df['%s_min'%c]"
   ]
  },
  {
   "cell_type": "code",
   "execution_count": 13,
   "metadata": {},
   "outputs": [],
   "source": [
    "le = LabelEncoder()\n",
    "df['teacher_id'] = le.fit_transform(df['teacher_id'])\n",
    "df['teacher_gender_unknown'] = df.teacher_prefix.apply(lambda x:int(x not in ['Ms.', 'Mrs.', 'Mr.']))\n",
    "\n",
    "statFeatures = []\n",
    "for col in ['school_state', 'teacher_id', 'teacher_prefix', 'teacher_gender_unknown', 'project_grade_category', 'project_subject_categories', 'project_subject_subcategories', 'teacher_number_of_previously_posted_projects']:\n",
    "    Stat = df[['id', col]].groupby(col).agg('count').rename(columns={'id':col+'_stat'})\n",
    "    Stat /= Stat.sum()\n",
    "    df = df.join(Stat, on=col)"
   ]
  },
  {
   "cell_type": "code",
   "execution_count": 16,
   "metadata": {},
   "outputs": [
    {
     "name": "stderr",
     "output_type": "stream",
     "text": [
      "/home/ubuntu/anaconda/lib/python3.6/site-packages/ipykernel_launcher.py:11: RuntimeWarning: Mean of empty slice\n",
      "  # This is added back by InteractiveShellApp.init_path()\n",
      "/home/ubuntu/anaconda/lib/python3.6/site-packages/ipykernel_launcher.py:12: RuntimeWarning: Mean of empty slice\n",
      "  if sys.path[0] == '':\n"
     ]
    },
    {
     "name": "stdout",
     "output_type": "stream",
     "text": [
      "columns \t\t\t Corr1 \t\t Corr2 \t\t Corr Combined\n"
     ]
    },
    {
     "name": "stderr",
     "output_type": "stream",
     "text": [
      "/home/ubuntu/anaconda/lib/python3.6/site-packages/ipykernel_launcher.py:31: RuntimeWarning: Mean of empty slice\n"
     ]
    },
    {
     "name": "stdout",
     "output_type": "stream",
     "text": [
      "CPU times: user 1.8 s, sys: 84 ms, total: 1.88 s\n",
      "Wall time: 1.54 s\n"
     ]
    }
   ],
   "source": [
    "%%time\n",
    "numFeatures=[df.columns[i] for i,j in enumerate(df.dtypes) if j == 'float64' and not (df.columns[i]=='project_is_approved') ]\n",
    "T2 = df[numFeatures+['project_is_approved']].copy()\n",
    "Ttr = T2[-pd.isna(df.project_is_approved)]\n",
    "Tar_tr = Ttr['project_is_approved'].values\n",
    "n = 10\n",
    "inx = [np.random.randint(0, Ttr.shape[0], int(Ttr.shape[0]/n)) for k in range(n)]\n",
    "# inx is used for crossvalidation of calculating the correlation and p-value\n",
    "Corr = {}\n",
    "for c in numFeatures:\n",
    "    # since some values might be 0s, I use x+1 to avoid missing some important relations\n",
    "    C1,P1=np.nanmean([pearsonr(Tar_tr[inx[k]],   (1+Ttr[c].iloc[inx[k]])) for k in range(n)], 0)\n",
    "    C2,P2=np.nanmean([pearsonr(Tar_tr[inx[k]], 1/(1+Ttr[c].iloc[inx[k]])) for k in range(n)], 0)\n",
    "    if P2<P1:\n",
    "        T2[c] = 1/(1+T2[c])\n",
    "        Corr[c] = [C2,P2]\n",
    "    else:\n",
    "        T2[c] = 1+T2[c]\n",
    "        Corr[c] = [C1,P1]\n",
    "        \n",
    "        \n",
    "polyCol = []\n",
    "thrP = 0.01\n",
    "thrC = 0.02\n",
    "print('columns \\t\\t\\t Corr1 \\t\\t Corr2 \\t\\t Corr Combined')\n",
    "for i, c1 in enumerate(numFeatures[:-1]):\n",
    "    C1, P1 = Corr[c1]\n",
    "    for c2 in numFeatures[i+1:]:\n",
    "        C2, P2 = Corr[c2]\n",
    "        V = T2[c1] * T2[c2]\n",
    "        Vtr = V[-pd.isna(T2.project_is_approved)].values\n",
    "        C, P = np.nanmean([pearsonr(Tar_tr[inx[k]], Vtr[inx[k]]) for k in range(n)], 0)\n",
    "        if P<thrP and abs(C) - max(abs(C1),abs(C2)) > thrC:\n",
    "            df[c1+'_'+c2+'_poly'] = V\n",
    "            \n",
    "            "
   ]
  },
  {
   "cell_type": "code",
   "execution_count": 20,
   "metadata": {},
   "outputs": [],
   "source": [
    "dateCol = 'project_submitted_datetime'\n",
    "def getTimeFeatures(T):\n",
    "    df['year'] = df[dateCol].apply(lambda x: x.year)\n",
    "    df['month'] = df[dateCol].apply(lambda x: x.month)\n",
    "    df['day'] = df[dateCol].apply(lambda x: x.day)\n",
    "    df['dow'] = df[dateCol].apply(lambda x: x.dayofweek)\n",
    "    df['hour'] = df[dateCol].apply(lambda x: x.hour)\n",
    "    df['days'] = (df[dateCol]-df[dateCol].min()).apply(lambda x: x.days)\n",
    "    return T\n",
    "\n",
    "df[dateCol] = pd.to_datetime(df[dateCol])\n",
    "df = getTimeFeatures(df)\n",
    "\n",
    "timeFeatures = ['year', 'month', 'day', 'dow', 'hour', 'days']\n",
    "for col in timeFeatures:\n",
    "    Stat = df[['id', col]].groupby(col).agg('count').rename(columns={'id':col+'_stat'})\n",
    "    Stat /= Stat.sum()\n",
    "    df = df.join(Stat, on=col)\n",
    "    "
   ]
  },
  {
   "cell_type": "code",
   "execution_count": 84,
   "metadata": {},
   "outputs": [],
   "source": [
    "def getCatFeatures(T, Col):\n",
    "    vectorizer = CountVectorizer(binary=True,\n",
    "                                 ngram_range=(1,1),\n",
    "                                 tokenizer=lambda x:[a.strip() for a in x.split(',')])\n",
    "    return vectorizer.fit_transform(T[Col].fillna(''))\n",
    "\n",
    "X_tp = getCatFeatures(df, 'teacher_prefix')\n",
    "X_ss = getCatFeatures(df, 'school_state')\n",
    "X_pgc = getCatFeatures(df, 'project_grade_category')\n",
    "X_psc = getCatFeatures(df, 'project_subject_categories')\n",
    "X_pssc = getCatFeatures(df, 'project_subject_subcategories')\n",
    "\n",
    "X_cat = sparse.hstack((X_tp, X_ss, X_pgc, X_psc, X_pssc))"
   ]
  },
  {
   "cell_type": "code",
   "execution_count": 76,
   "metadata": {},
   "outputs": [
    {
     "name": "stdout",
     "output_type": "stream",
     "text": [
      "processing:  project_essay_1\n",
      "processing:  project_essay_2\n",
      "processing:  project_resource_summary\n",
      "processing:  resource_description\n",
      "processing:  project_title\n"
     ]
    }
   ],
   "source": [
    "p = PorterStemmer()\n",
    "def wordPreProcess(sentence):\n",
    "    return ' '.join([p.stem(x.lower()) for x in re.split('\\W', sentence) if len(x) >= 1])\n",
    "\n",
    "\n",
    "\n",
    "def getTextFeatures(T, Col, max_features=10000, ngrams=(1,2), verbose=True):\n",
    "    if verbose:\n",
    "        print('processing: ', Col)\n",
    "    vectorizer = CountVectorizer(stop_words=None,\n",
    "                                 preprocessor=wordPreProcess,\n",
    "                                 max_features=max_features,\n",
    "                                 binary=True,\n",
    "                                 ngram_range=ngrams)\n",
    "    X = vectorizer.fit_transform(T[Col])\n",
    "    return X, vectorizer.get_feature_names()\n",
    "\n",
    "n_es1, n_es2, n_prs, n_rd, n_pt = 3000, 8000, 2000, 3000, 1000\n",
    "X_es1, feat_es1 = getTextFeatures(df, 'project_essay_1', max_features=n_es1)\n",
    "X_es2, feat_es2 = getTextFeatures(df, 'project_essay_2', max_features=n_es2)\n",
    "X_prs, feat_prs = getTextFeatures(df, 'project_resource_summary', max_features=n_prs)\n",
    "X_rd, feat_rd = getTextFeatures(df, 'resource_description', max_features=n_rd, ngrams=(1,3))\n",
    "X_pt, feat_pt = getTextFeatures(df, 'project_title', max_features=n_pt)"
   ]
  },
  {
   "cell_type": "code",
   "execution_count": 81,
   "metadata": {},
   "outputs": [],
   "source": [
    "X_txt = sparse.hstack((X_es1, X_es2, X_prs, X_rd, X_pt))\n",
    "del X_es1, X_es2, X_prs, X_rd, X_pt"
   ]
  },
  {
   "cell_type": "code",
   "execution_count": null,
   "metadata": {},
   "outputs": [],
   "source": [
    "def preprocess_str(string):\n",
    "    string = re.sub(r'(\\\")', ' ', string)\n",
    "    string = re.sub(r'(\\r)', ' ', string)\n",
    "    string = re.sub(r'(\\n)', ' ', string)\n",
    "    string = re.sub(r'(\\r\\n)', ' ', string)\n",
    "    string = re.sub(r'(\\\\)', ' ', string)\n",
    "    string = re.sub(r'\\t', ' ', string)\n",
    "    string = re.sub(r'\\:', ' ', string)\n",
    "    string = re.sub(r'\\\"\\\"\\\"\\\"', ' ', string)\n",
    "    string = re.sub(r'_', ' ', string)\n",
    "    string = re.sub(r'\\+', ' ', string)\n",
    "    string = re.sub(r'\\=', ' ', string)\n",
    "    "
   ]
  },
  {
   "cell_type": "code",
   "execution_count": 2,
   "metadata": {},
   "outputs": [],
   "source": [
    "df_path='data/df.p'\n",
    "if os.path.exists(df_path):\n",
    "    df=pd.read_pickle('data/df.p')\n",
    "else:\n",
    "    df.to_pickle('data/df.p')\n",
    "    \n",
    "txt_path = 'data/txt.npy'\n",
    "if os.path.exists(txt_path):\n",
    "    X_txt = pickle.load(open(txt_path, 'rb'))\n",
    "else:\n",
    "    pickle.dump(X_txt, open(txt_path, 'wb'))\n",
    "\n",
    "cat_path = 'data/cat.npy'\n",
    "if os.path.exists(cat_path):\n",
    "    X_cat = pickle.load(open(cat_path, 'rb'))\n",
    "else:\n",
    "    pickle.dump(X_cat, open(cat_path, 'wb'))"
   ]
  },
  {
   "cell_type": "code",
   "execution_count": 28,
   "metadata": {},
   "outputs": [],
   "source": [
    "from sklearn.preprocessing import StandardScaler\n",
    "numFeatures=[df.columns[i] for i,j in enumerate(df.dtypes) if j == 'float64' and not (df.columns[i]=='project_is_approved') ]\n",
    "X = sparse.hstack((X_txt, X_cat, StandardScaler().fit_transform(df[numFeatures].fillna(0)))).tocsr()\n",
    "\n",
    "Xtr = X[np.argwhere(-pd.isna(df.project_is_approved)).reshape(-1,)]\n",
    "Xts = X[np.argwhere(pd.isna(df.project_is_approved)).reshape(-1,)]\n",
    "Ttr_tar = df[-pd.isna(df.project_is_approved)]['project_is_approved'].values\n",
    "Tts = df[-pd.isna(df.project_is_approved)][['id','project_is_approved']]"
   ]
  },
  {
   "cell_type": "code",
   "execution_count": 35,
   "metadata": {},
   "outputs": [
    {
     "ename": "ModuleNotFoundError",
     "evalue": "No module named 'keras'",
     "output_type": "error",
     "traceback": [
      "\u001b[0;31m---------------------------------------------------------------------------\u001b[0m",
      "\u001b[0;31mModuleNotFoundError\u001b[0m                       Traceback (most recent call last)",
      "\u001b[0;32m<ipython-input-35-b4c4ff767876>\u001b[0m in \u001b[0;36m<module>\u001b[0;34m()\u001b[0m\n\u001b[0;32m----> 1\u001b[0;31m \u001b[0;32mfrom\u001b[0m \u001b[0mkeras\u001b[0m\u001b[0;34m.\u001b[0m\u001b[0mlayers\u001b[0m \u001b[0;32mimport\u001b[0m \u001b[0mInput\u001b[0m\u001b[0;34m,\u001b[0m \u001b[0mDense\u001b[0m\u001b[0;34m,\u001b[0m \u001b[0mFlatten\u001b[0m\u001b[0;34m,\u001b[0m \u001b[0mconcatenate\u001b[0m\u001b[0;34m,\u001b[0m \u001b[0mDropout\u001b[0m\u001b[0;34m,\u001b[0m \u001b[0mEmbedding\u001b[0m\u001b[0;34m,\u001b[0m \u001b[0mSpatialDropout1D\u001b[0m\u001b[0;34m\u001b[0m\u001b[0m\n\u001b[0m\u001b[1;32m      2\u001b[0m \u001b[0;32mfrom\u001b[0m \u001b[0mkeras\u001b[0m\u001b[0;34m.\u001b[0m\u001b[0mcallbacks\u001b[0m \u001b[0;32mimport\u001b[0m \u001b[0mEarlyStopping\u001b[0m\u001b[0;34m,\u001b[0m \u001b[0mReduceLROnPlateau\u001b[0m\u001b[0;34m,\u001b[0m \u001b[0mModelCheckpoint\u001b[0m\u001b[0;34m\u001b[0m\u001b[0m\n\u001b[1;32m      3\u001b[0m \u001b[0;32mfrom\u001b[0m \u001b[0mkeras\u001b[0m\u001b[0;34m.\u001b[0m\u001b[0mmodels\u001b[0m \u001b[0;32mimport\u001b[0m \u001b[0mModel\u001b[0m\u001b[0;34m\u001b[0m\u001b[0m\n\u001b[1;32m      4\u001b[0m \u001b[0;32mfrom\u001b[0m \u001b[0mkeras\u001b[0m \u001b[0;32mimport\u001b[0m \u001b[0moptimizers\u001b[0m\u001b[0;34m\u001b[0m\u001b[0m\n\u001b[1;32m      5\u001b[0m \u001b[0;32mfrom\u001b[0m \u001b[0msklearn\u001b[0m\u001b[0;34m.\u001b[0m\u001b[0mmodel_selection\u001b[0m \u001b[0;32mimport\u001b[0m \u001b[0mtrain_test_split\u001b[0m\u001b[0;34m\u001b[0m\u001b[0m\n",
      "\u001b[0;31mModuleNotFoundError\u001b[0m: No module named 'keras'"
     ]
    }
   ],
   "source": [
    "from keras.layers import Input, Dense, Flatten, concatenate, Dropout, Embedding, SpatialDropout1D\n",
    "from keras.callbacks import EarlyStopping, ReduceLROnPlateau, ModelCheckpoint\n",
    "from keras.models import Model\n",
    "from keras import optimizers\n",
    "from sklearn.model_selection import train_test_split\n",
    "from sklearn.linear_model import LinearRegression\n",
    "\n",
    "def breakInput(X1):\n",
    "    X2 = []\n",
    "    i = 0\n",
    "    for n in [n_es1, n_es2, n_prs, n_rd, n_pt, X_cat.shape[1], len(numFeatures)]:\n",
    "        X2.append(X1[:,i:i+n])\n",
    "        i += n\n",
    "    return X2\n",
    "\n",
    "def getModel(HLs, Drop=0.25, OP=optimizers.Adam()):\n",
    "    temp = []\n",
    "    inputs_txt = []\n",
    "    for n in [n_es1, n_es2, n_prs, n_rd, n_pt]:\n",
    "        input_txt = Input((n, ))\n",
    "        X_feat = Dropout(Drop)(input_txt)\n",
    "        X_feat = Dense(int(n/100), activation=\"linear\")(X_feat)\n",
    "        X_feat = Dropout(Drop)(X_feat)\n",
    "        temp.append(X_feat)\n",
    "        inputs_txt.append(input_txt)\n",
    "\n",
    "    x_1 = concatenate(temp)\n",
    "#     x_1 = Dense(20, activation=\"relu\")(x_1)\n",
    "    x_1 = Dense(50, activation=\"relu\")(x_1)\n",
    "    x_1 = Dropout(Drop)(x_1)\n",
    "\n",
    "    input_cat = Input((X_cat.shape[1], ))\n",
    "    x_2 = Embedding(2, 10, input_length=X_cat.shape[1])(input_cat)\n",
    "    x_2 = SpatialDropout1D(Drop)(x_2)\n",
    "    x_2 = Flatten()(x_2)\n",
    "\n",
    "    input_num = Input((len(numFeatures), ))\n",
    "    x_3 = Dropout(Drop)(input_num)\n",
    "    \n",
    "    x = concatenate([x_1, x_2, x_3])\n",
    "\n",
    "    for HL in HLs:\n",
    "        x = Dense(HL, activation=\"relu\")(x)\n",
    "        x = Dropout(Drop)(x)\n",
    "\n",
    "    output = Dense(1, activation=\"sigmoid\")(x)\n",
    "\n",
    "    model = Model(inputs=inputs_txt+[input_cat, input_num], outputs=output)\n",
    "    model.compile(\n",
    "            optimizer=OP,\n",
    "            loss='binary_crossentropy',\n",
    "            metrics=['binary_accuracy'])\n",
    "    return model\n",
    "\n",
    "def trainNN(X_train, X_val, Tar_train, Tar_val, HL=[50], Drop=0.5, OP=optimizers.Adam()):\n",
    "    file_path='NN.h5'\n",
    "    checkpoint = ModelCheckpoint(file_path, monitor='val_loss', verbose=1, save_best_only=True, save_weights_only=True, mode='min')\n",
    "    early = EarlyStopping(monitor=\"val_loss\", mode=\"min\", patience=6)\n",
    "    lr_reduced = ReduceLROnPlateau(monitor='val_loss',\n",
    "                                   factor=0.5,\n",
    "                                   patience=2,\n",
    "                                   verbose=1,\n",
    "                                   epsilon=3e-4,\n",
    "                                   mode='min')\n",
    "\n",
    "    model = getModel(HL, Drop, OP)\n",
    "    model.fit(breakInput(X_train), Tar_train, validation_data=(breakInput(X_val), Tar_val),\n",
    "                        verbose=2, epochs=50, batch_size=1000, callbacks=[early, lr_reduced, checkpoint])\n",
    "    model.load_weights(file_path)\n",
    "    return model\n",
    "\n",
    "params_xgb = {\n",
    "        'eta': 0.05,\n",
    "        'max_depth': 4,\n",
    "        'subsample': 0.85,\n",
    "        'colsample_bytree': 0.25,\n",
    "        'min_child_weight': 3,\n",
    "        'objective': 'binary:logistic',\n",
    "        'eval_metric': 'auc',\n",
    "        'seed': 0,\n",
    "        'silent': 1,\n",
    "    }\n",
    "params_lgb = {\n",
    "        'boosting_type': 'dart',\n",
    "        'objective': 'binary',\n",
    "        'metric': 'auc',\n",
    "        'max_depth': 10,\n",
    "        'learning_rate': 0.05,\n",
    "        'feature_fraction': 0.25,\n",
    "        'bagging_fraction': 0.85,\n",
    "        'seed': 0,\n",
    "        'verbose': 0,\n",
    "    }\n",
    "nCV = 1 # should be ideally larger\n",
    "for i in range(21, 22):\n",
    "    gc.collect()\n",
    "    X_train, X_val, Tar_train, Tar_val = train_test_split(Xtr, Ttr_tar, test_size=0.15, random_state=i, stratify=Ttr_tar)\n",
    "    # XGB\n",
    "    dtrain = xgb.DMatrix(X_train, label=Tar_train)\n",
    "    dval   = xgb.DMatrix(X_val, label=Tar_val)\n",
    "    watchlist = [(dtrain, 'train'), (dval, 'valid')]\n",
    "    model = xgb.train(params_xgb, dtrain, 5000,  watchlist, maximize=True, verbose_eval=200, early_stopping_rounds=200)\n",
    "    Yvl1 = model.predict(dval)\n",
    "    Yts1 = model.predict(xgb.DMatrix(Xts))\n",
    "    # LGB\n",
    "    dtrain = lgb.Dataset(X_train, Tar_train)\n",
    "    dval   = lgb.Dataset(X_val, Tar_val)\n",
    "    model = lgb.train(params_lgb, dtrain, num_boost_round=10000, valid_sets=[dtrain, dval], early_stopping_rounds=200, verbose_eval=200)\n",
    "    Yvl2 = model.predict(X_val)\n",
    "    Yts2 = model.predict(Xts)\n",
    "    # NN\n",
    "    model = trainNN(X_train, X_val, Tar_train, Tar_val, HL=[50], Drop=0.5, OP=optimizers.Adam())\n",
    "    Yvl3 = model.predict(breakInput(X_val)).squeeze()\n",
    "    Yts3 = model.predict(breakInput(Xts)).squeeze()\n",
    "    # stack\n",
    "    M = LinearRegression()\n",
    "    M.fit(pl.array([Yvl1, Yvl2, Yvl3]).T, Tar_val)\n",
    "    Yts.append(M.predict(pl.array([Yts1, Yts2, Yts3]).T))"
   ]
  },
  {
   "cell_type": "code",
   "execution_count": null,
   "metadata": {},
   "outputs": [],
   "source": []
  }
 ],
 "metadata": {
  "kernelspec": {
   "display_name": "Python 3",
   "language": "python",
   "name": "python3"
  },
  "language_info": {
   "codemirror_mode": {
    "name": "ipython",
    "version": 3
   },
   "file_extension": ".py",
   "mimetype": "text/x-python",
   "name": "python",
   "nbconvert_exporter": "python",
   "pygments_lexer": "ipython3",
   "version": "3.6.4"
  }
 },
 "nbformat": 4,
 "nbformat_minor": 2
}
